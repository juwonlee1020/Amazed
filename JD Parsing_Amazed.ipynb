{
 "cells": [
  {
   "cell_type": "code",
   "execution_count": 46,
   "metadata": {
    "collapsed": false
   },
   "outputs": [
    {
     "name": "stdout",
     "output_type": "stream",
     "text": [
      "Company Name: Intertek Testing Services H.K.Ltd\n",
      "Position Name: 短期/暑期助理/實習生(大量)\n",
      "Location: Lai Chi Kok, Kowloon\n"
     ]
    }
   ],
   "source": [
    "from urllib.request import urlopen\n",
    "from bs4 import BeautifulSoup\n",
    "\n",
    "url = \"http://www.indeed.hk/viewjob?jk=0de52aca75679759&qd=Yu0lP5vQ1z8ugusn7AXJ8WBNONaZvbx5tC1xR3Lr0YDseASUSXbRCjOXw39ORCwM4mEmTx-kTQtUu2EBwsy8Oam1Aj3izkOw87NHJgxznYA&indpubnum=6841719267988502&atk=1bfhj6b381fhc4oc\"\n",
    "html = urlopen(url)\n",
    "bsObj = BeautifulSoup(html.read(), \"lxml\");\n",
    "\n",
    "#Company Name\n",
    "for link in bsObj.find('span', class_='company'):\n",
    "    print(\"Company Name: \" + link)\n",
    "\n",
    "#Position Name\n",
    "for link in bsObj.find_all('b', class_='jobtitle'):\n",
    "    name = link.find(text=True)\n",
    "    print(\"Position Name: \" + name)\n",
    "    \n",
    "#Location Name\n",
    "for link in bsObj.find('span', class_='location'):\n",
    "    print(\"Location: \" + link)\n",
    "\n",
    "    \n",
    "    \n"
   ]
  }
 ],
 "metadata": {
  "kernelspec": {
   "display_name": "Python 3",
   "language": "python",
   "name": "python3"
  }
 },
 "nbformat": 4,
 "nbformat_minor": 2
}
