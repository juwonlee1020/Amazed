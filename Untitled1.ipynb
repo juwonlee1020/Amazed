{
 "cells": [
  {
   "cell_type": "code",
   "execution_count": 4,
   "metadata": {
    "collapsed": false
   },
   "outputs": [],
   "source": [
    "import requests\n",
    "import urllib.request\n",
    "from bs4 import BeautifulSoup\n",
    "from nltk.tokenize import sent_tokenize, word_tokenize\n",
    "from nltk.corpus import stopwords\n",
    "from collections import defaultdict\n",
    "from string import punctuation\n",
    "from heapq import nlargest\n",
    "from math import log\n",
    "from sklearn.feature_extraction.text import TfidfVectorizer\n",
    "from sklearn.cluster import KMeans"
   ]
  },
  {
   "cell_type": "code",
   "execution_count": 6,
   "metadata": {
    "collapsed": true
   },
   "outputs": [],
   "source": [
    "def getWashPostText(url,token):\n",
    "    try:\n",
    "        page = urllib.request.urlopen(url).read().decode('utf8')\n",
    "    except:\n",
    "        return (None, None)\n",
    "    soup = BeautifulSoup(page)\n",
    "    if soup is None:\n",
    "        return (None, None)\n",
    "    text = \"\"\n",
    "    if soup.find_all(token) is not None:\n",
    "        text = \" \".join(map(lambda p: p.text, soup.find_all(token)))\n",
    "        soup2 = BeautifulSoup(text)\n",
    "        if soup2.find_all('p') is not None:\n",
    "            text = \"\".join(map(lambda p:p.text, soup2.find_all('p')))\n",
    "    return text, soup.title.text"
   ]
  },
  {
   "cell_type": "code",
   "execution_count": null,
   "metadata": {
    "collapsed": true
   },
   "outputs": [],
   "source": []
  }
 ],
 "metadata": {
  "kernelspec": {
   "display_name": "Python 3",
   "language": "python",
   "name": "python3"
  },
  "language_info": {
   "codemirror_mode": {
    "name": "ipython",
    "version": 3
   },
   "file_extension": ".py",
   "mimetype": "text/x-python",
   "name": "python",
   "nbconvert_exporter": "python",
   "pygments_lexer": "ipython3",
   "version": "3.6.0"
  }
 },
 "nbformat": 4,
 "nbformat_minor": 2
}
