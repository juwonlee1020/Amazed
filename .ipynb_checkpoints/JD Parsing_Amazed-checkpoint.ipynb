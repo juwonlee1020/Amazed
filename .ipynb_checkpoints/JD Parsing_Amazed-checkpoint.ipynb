{
 "cells": [
  {
   "cell_type": "code",
   "execution_count": 5,
   "metadata": {
    "collapsed": false
   },
   "outputs": [
    {
     "name": "stdout",
     "output_type": "stream",
     "text": [
      "Company Name: Hutchison Telecommunications (Hong Kong) Limited\n",
      "Position Name: System Administrator\n",
      "Location: Hong Kong\n"
     ]
    }
   ],
   "source": [
    "from urllib.request import urlopen\n",
    "from bs4 import BeautifulSoup\n",
    "\n",
    "url = \"http://www.indeed.hk/viewjob?jk=63c8f17a522e7b2a&qd=Yu0lP5vQ1z8ugusn7AXJ8d6lDavO9HRGkBmz6HErjupzX1HgZF2hPNptlpQdXpcEa09OyWfCWgo-AqNGnLNuLuDggLvYmxb6ysxgiTkir9mDBfhE8IgzO_q_LQgY-_NZ&indpubnum=6841719267988502&atk=1bf1jsvud1d3p7kg\"\n",
    "html = urlopen(url)\n",
    "bsObj = BeautifulSoup(html.read(), \"lxml\");\n",
    "\n",
    "#Company Name\n",
    "for link in bsObj.find('span', class_='company'):\n",
    "    print(\"Company Name: \" + link)\n",
    "\n",
    "#Position Name\n",
    "for link in bsObj.find_all('b', class_='jobtitle'):\n",
    "    name = link.find(text=True)\n",
    "    print(\"Position Name: \" + name)\n",
    "    \n",
    "#Location Name\n",
    "for link in bsObj.find('span', class_='location'):\n",
    "    print(\"Location: \" + link)\n",
    "\n",
    "    \n",
    "    \n"
   ]
  }
 ],
 "metadata": {
  "kernelspec": {
   "display_name": "Python 3",
   "language": "python",
   "name": "python3"
  },
  "language_info": {
   "codemirror_mode": {
    "name": "ipython",
    "version": 3
   },
   "file_extension": ".py",
   "mimetype": "text/x-python",
   "name": "python",
   "nbconvert_exporter": "python",
   "pygments_lexer": "ipython3",
   "version": "3.6.0"
  }
 },
 "nbformat": 4,
 "nbformat_minor": 2
}
